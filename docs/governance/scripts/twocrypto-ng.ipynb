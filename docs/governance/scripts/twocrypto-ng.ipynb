{
 "cells": [
  {
   "cell_type": "code",
   "execution_count": 1,
   "metadata": {},
   "outputs": [],
   "source": [
    "%%capture\n",
    "!pip install titanoboa\n",
    "!pip install curve_dao"
   ]
  },
  {
   "cell_type": "code",
   "execution_count": 2,
   "metadata": {},
   "outputs": [
    {
     "ename": "ModuleNotFoundError",
     "evalue": "No module named 'google.colab'",
     "output_type": "error",
     "traceback": [
      "\u001b[0;31m---------------------------------------------------------------------------\u001b[0m",
      "\u001b[0;31mModuleNotFoundError\u001b[0m                       Traceback (most recent call last)",
      "Cell \u001b[0;32mIn[2], line 1\u001b[0m\n\u001b[0;32m----> 1\u001b[0m \u001b[38;5;28;01mfrom\u001b[39;00m \u001b[38;5;21;01mgoogle\u001b[39;00m\u001b[38;5;21;01m.\u001b[39;00m\u001b[38;5;21;01mcolab\u001b[39;00m \u001b[38;5;28;01mimport\u001b[39;00m userdata\n\u001b[1;32m      2\u001b[0m \u001b[38;5;28;01mimport\u001b[39;00m \u001b[38;5;21;01mboa\u001b[39;00m\n\u001b[1;32m      3\u001b[0m \u001b[38;5;28;01mimport\u001b[39;00m \u001b[38;5;21;01mcurve_dao\u001b[39;00m\n",
      "\u001b[0;31mModuleNotFoundError\u001b[0m: No module named 'google.colab'"
     ]
    }
   ],
   "source": [
    "import boa\n",
    "import curve_dao\n",
    "import math\n",
    "import datetime"
   ]
  },
  {
   "cell_type": "code",
   "execution_count": 3,
   "metadata": {},
   "outputs": [
    {
     "ename": "NameError",
     "evalue": "name 'boa' is not defined",
     "output_type": "error",
     "traceback": [
      "\u001b[0;31m---------------------------------------------------------------------------\u001b[0m",
      "\u001b[0;31mNameError\u001b[0m                                 Traceback (most recent call last)",
      "Cell \u001b[0;32mIn[3], line 10\u001b[0m\n\u001b[1;32m      7\u001b[0m ALCHEMY \u001b[38;5;241m=\u001b[39m \u001b[38;5;124m'\u001b[39m\u001b[38;5;124mALCHEMY_KEY\u001b[39m\u001b[38;5;124m'\u001b[39m\n\u001b[1;32m      8\u001b[0m PINATA_KEY \u001b[38;5;241m=\u001b[39m \u001b[38;5;124m'\u001b[39m\u001b[38;5;124mPINATA_KEY\u001b[39m\u001b[38;5;124m'\u001b[39m\n\u001b[0;32m---> 10\u001b[0m \u001b[43mboa\u001b[49m\u001b[38;5;241m.\u001b[39menv\u001b[38;5;241m.\u001b[39mfork(ALCHEMY)\n",
      "\u001b[0;31mNameError\u001b[0m: name 'boa' is not defined"
     ]
    }
   ],
   "source": [
    "TIME_FORMAT = \"%Y-%m-%d %H:%M:%S%z\"\n",
    "\n",
    "def get_datestring(ts):\n",
    "    dt = datetime.datetime.fromtimestamp(ts, tz=datetime.timezone.utc)\n",
    "    return dt.strftime(TIME_FORMAT)\n",
    "\n",
    "ALCHEMY = 'ALCHEMY_KEY'\n",
    "PINATA_KEY = 'PINATA_KEY'\n",
    "\n",
    "boa.env.fork(ALCHEMY)"
   ]
  },
  {
   "cell_type": "code",
   "execution_count": 4,
   "metadata": {},
   "outputs": [],
   "source": [
    "# Set up constants\n",
    "VOTE_CREATOR_SIM = \"0x989AEb4d175e16225E39E87d0D97A3360524AD80\"\n",
    "POOL_ADDRESS = \"0xc907ba505c2e1cbc4658c395d4a2c7e6d2c32656\"\n",
    "RAMP_TIME_WEEKS = 1\n",
    "\n",
    "# new parameters\n",
    "NEW_A = 3000000\n",
    "NEW_GAMMA = 63000000000000000\n",
    "NEW_MID_FEE = 3000000\n",
    "NEW_OUT_FEE = 15000000\n",
    "NEW_FEE_GAMMA = 30000000000000000\n",
    "NEW_ALLOWED_EXTRA_PROFIT = 10000000000\n",
    "NEW_ADJUSTMENT_STEP = 5500000000000\n",
    "NEW_MA_TIME = 601\n",
    "\n",
    "# proposal time\n",
    "PROPOSAL_TIME_WEEKS = 1"
   ]
  },
  {
   "cell_type": "code",
   "execution_count": 5,
   "metadata": {},
   "outputs": [
    {
     "ename": "NameError",
     "evalue": "name 'boa' is not defined",
     "output_type": "error",
     "traceback": [
      "\u001b[0;31m---------------------------------------------------------------------------\u001b[0m",
      "\u001b[0;31mNameError\u001b[0m                                 Traceback (most recent call last)",
      "Cell \u001b[0;32mIn[5], line 2\u001b[0m\n\u001b[1;32m      1\u001b[0m \u001b[38;5;66;03m# Load the TwocrptoNG contract\u001b[39;00m\n\u001b[0;32m----> 2\u001b[0m pool \u001b[38;5;241m=\u001b[39m \u001b[43mboa\u001b[49m\u001b[38;5;241m.\u001b[39mfrom_etherscan(\n\u001b[1;32m      3\u001b[0m     POOL_ADDRESS, name\u001b[38;5;241m=\u001b[39m\u001b[38;5;124m\"\u001b[39m\u001b[38;5;124mTwocrptoNG\u001b[39m\u001b[38;5;124m\"\u001b[39m, api_key\u001b[38;5;241m=\u001b[39m\u001b[38;5;124m\"\u001b[39m\u001b[38;5;124mETHERSCAN_API_KEY\u001b[39m\u001b[38;5;124m\"\u001b[39m\n\u001b[1;32m      4\u001b[0m )\n",
      "\u001b[0;31mNameError\u001b[0m: name 'boa' is not defined"
     ]
    }
   ],
   "source": [
    "# Load the TwocrptoNG contract\n",
    "pool = boa.from_etherscan(\n",
    "    POOL_ADDRESS, name=\"TwocrptoNG\", api_key=\"ETHERSCAN_API_KEY\"\n",
    ")"
   ]
  },
  {
   "cell_type": "code",
   "execution_count": 6,
   "metadata": {},
   "outputs": [],
   "source": [
    "def update_twocrypto_ng(\n",
    "        pool,\n",
    "        ramp_time_weeks,\n",
    "        new_A,\n",
    "        new_gamma,\n",
    "        new_mid_fee,\n",
    "        new_out_fee,\n",
    "        new_fee_gamma,\n",
    "        new_allowed_extra_profit,\n",
    "        new_adjustment_step,\n",
    "        new_ma_time,\n",
    "        proposal_time_weeks,\n",
    "):\n",
    "    SECONDS_PER_WEEK = 7 * 24 * 60 * 60\n",
    "\n",
    "    ramp_time_seconds = int(ramp_time_weeks * SECONDS_PER_WEEK)\n",
    "    proposal_time_seconds = int(proposal_time_weeks * SECONDS_PER_WEEK)\n",
    "\n",
    "    current_time = boa.env.evm.patch.timestamp\n",
    "    future_A_time = current_time + ramp_time_seconds + proposal_time_seconds\n",
    "\n",
    "    pool_address = pool.address.strip()\n",
    "    actions = [\n",
    "        (pool_address, \"ramp_A_gamma\", new_A, new_gamma, future_A_time),    # adjust A and gamma\n",
    "        (pool_address, \"apply_new_parameters\", new_mid_fee, new_out_fee, new_fee_gamma, new_allowed_extra_profit, new_adjustment_step, int(new_ma_time / math.log(2)))\n",
    "    ]\n",
    "\n",
    "    current_A = pool.A()\n",
    "    current_gamma = pool.gamma()\n",
    "    current_mid_fee = pool.mid_fee()\n",
    "    current_out_fee = pool.out_fee()\n",
    "    current_fee_gamma = pool.fee_gamma()\n",
    "    current_allowed_extra_profit = pool.allowed_extra_profit()\n",
    "    current_adjustment_step = pool.adjustment_step()\n",
    "    current_ma_time = pool.ma_time()\n",
    "\n",
    "    ramp_start_time = future_A_time - ramp_time_seconds\n",
    "    ramp_start_datestring = get_datestring(ramp_start_time)\n",
    "    ramp_end_datestring = get_datestring(future_A_time)\n",
    "\n",
    "    description = (\n",
    "        f\"Update TwocryptoNG parameters for pool {pool_address} with: \"\n",
    "        f\"mid_fee from {current_mid_fee} -> {new_mid_fee}, \"\n",
    "        f\"out_fee from {current_out_fee} -> {new_out_fee}, \"\n",
    "        f\"fee_gamma from {current_fee_gamma} -> {new_fee_gamma}, \"\n",
    "        f\"allowed_extra_profit from {current_allowed_extra_profit} -> {new_allowed_extra_profit}, \"\n",
    "        f\"adjustment_step from {current_adjustment_step} -> {new_adjustment_step}, \"\n",
    "        f\"ma_time from {current_ma_time} -> {new_ma_time}, \"\n",
    "        f\"amplification factor from {current_A} -> {new_A} ramped over {ramp_time_weeks} weeks \"\n",
    "        f\"gamma from {current_gamma} -> {new_gamma} ramped over {ramp_time_weeks} weeks \"\n",
    "        f\"starting on {ramp_start_datestring} and ending on {ramp_end_datestring}.\"\n",
    "    )\n",
    "\n",
    "    return actions, description"
   ]
  },
  {
   "cell_type": "code",
   "execution_count": 7,
   "metadata": {},
   "outputs": [
    {
     "ename": "NameError",
     "evalue": "name 'pool' is not defined",
     "output_type": "error",
     "traceback": [
      "\u001b[0;31m---------------------------------------------------------------------------\u001b[0m",
      "\u001b[0;31mNameError\u001b[0m                                 Traceback (most recent call last)",
      "Cell \u001b[0;32mIn[7], line 3\u001b[0m\n\u001b[1;32m      1\u001b[0m \u001b[38;5;66;03m# Generate proposal actions and description\u001b[39;00m\n\u001b[1;32m      2\u001b[0m actions, description \u001b[38;5;241m=\u001b[39m update_twocrypto_ng(\n\u001b[0;32m----> 3\u001b[0m     \u001b[43mpool\u001b[49m,\n\u001b[1;32m      4\u001b[0m     RAMP_TIME_WEEKS,\n\u001b[1;32m      5\u001b[0m     NEW_A,\n\u001b[1;32m      6\u001b[0m     NEW_GAMMA,\n\u001b[1;32m      7\u001b[0m     NEW_MID_FEE,\n\u001b[1;32m      8\u001b[0m     NEW_OUT_FEE,\n\u001b[1;32m      9\u001b[0m     NEW_FEE_GAMMA,\n\u001b[1;32m     10\u001b[0m     NEW_ALLOWED_EXTRA_PROFIT,\n\u001b[1;32m     11\u001b[0m     NEW_ADJUSTMENT_STEP,\n\u001b[1;32m     12\u001b[0m     NEW_MA_TIME,\n\u001b[1;32m     13\u001b[0m     PROPOSAL_TIME_WEEKS,\n\u001b[1;32m     14\u001b[0m )\n",
      "\u001b[0;31mNameError\u001b[0m: name 'pool' is not defined"
     ]
    }
   ],
   "source": [
    "# Generate proposal actions and description\n",
    "actions, description = update_twocrypto_ng(\n",
    "    pool,\n",
    "    RAMP_TIME_WEEKS,\n",
    "    NEW_A,\n",
    "    NEW_GAMMA,\n",
    "    NEW_MID_FEE,\n",
    "    NEW_OUT_FEE,\n",
    "    NEW_FEE_GAMMA,\n",
    "    NEW_ALLOWED_EXTRA_PROFIT,\n",
    "    NEW_ADJUSTMENT_STEP,\n",
    "    NEW_MA_TIME,\n",
    "    PROPOSAL_TIME_WEEKS,\n",
    ")"
   ]
  },
  {
   "cell_type": "code",
   "execution_count": 8,
   "metadata": {},
   "outputs": [
    {
     "ename": "NameError",
     "evalue": "name 'boa' is not defined",
     "output_type": "error",
     "traceback": [
      "\u001b[0;31m---------------------------------------------------------------------------\u001b[0m",
      "\u001b[0;31mNameError\u001b[0m                                 Traceback (most recent call last)",
      "Cell \u001b[0;32mIn[8], line 5\u001b[0m\n\u001b[1;32m      3\u001b[0m \u001b[38;5;66;03m# Create and submit the proposal\u001b[39;00m\n\u001b[1;32m      4\u001b[0m \u001b[38;5;28;01mif\u001b[39;00m SIMULATION:\n\u001b[0;32m----> 5\u001b[0m   \u001b[38;5;28;01mwith\u001b[39;00m \u001b[43mboa\u001b[49m\u001b[38;5;241m.\u001b[39menv\u001b[38;5;241m.\u001b[39mprank(VOTE_CREATOR_SIM):\n\u001b[1;32m      6\u001b[0m       vote_id \u001b[38;5;241m=\u001b[39m curve_dao\u001b[38;5;241m.\u001b[39mcreate_vote(\n\u001b[1;32m      7\u001b[0m           curve_dao\u001b[38;5;241m.\u001b[39mget_address(\u001b[38;5;124m\"\u001b[39m\u001b[38;5;124mownership\u001b[39m\u001b[38;5;124m\"\u001b[39m),\n\u001b[1;32m      8\u001b[0m           actions,\n\u001b[0;32m   (...)\u001b[0m\n\u001b[1;32m     11\u001b[0m           \u001b[38;5;124m\"\u001b[39m\u001b[38;5;124mPINATA_KEY\u001b[39m\u001b[38;5;124m\"\u001b[39m,\n\u001b[1;32m     12\u001b[0m       )\n\u001b[1;32m     13\u001b[0m   \u001b[38;5;28mprint\u001b[39m(\u001b[38;5;124mf\u001b[39m\u001b[38;5;124m\"\u001b[39m\u001b[38;5;124mVote ID: \u001b[39m\u001b[38;5;132;01m{\u001b[39;00mvote_id\u001b[38;5;132;01m}\u001b[39;00m\u001b[38;5;124m\"\u001b[39m)\n",
      "\u001b[0;31mNameError\u001b[0m: name 'boa' is not defined"
     ]
    }
   ],
   "source": [
    "SIMULATION = True\n",
    "\n",
    "# Create and submit the proposal\n",
    "if SIMULATION:\n",
    "  with boa.env.prank(VOTE_CREATOR_SIM):\n",
    "      vote_id = curve_dao.create_vote(\n",
    "          curve_dao.get_address(\"ownership\"),\n",
    "          actions,\n",
    "          description,\n",
    "          \"ETHERSCAN_API_KEY\",\n",
    "          \"PINATA_KEY\",\n",
    "      )\n",
    "  print(f\"Vote ID: {vote_id}\")\n",
    "\n",
    "if not SIMULATION:\n",
    "  boa.set_browser_env()\n",
    "  vote_id = curve_dao.create_vote(\n",
    "      curve_dao.get_address(\"ownership\"),\n",
    "      actions,\n",
    "      description,\n",
    "      \"ETHERSCAN_API_KEY\",\n",
    "      \"PINATA_KEY\",\n",
    "  )\n",
    "  print(f\"Vote ID: {vote_id}\")\n"
   ]
  },
  {
   "cell_type": "code",
   "execution_count": 9,
   "metadata": {},
   "outputs": [
    {
     "ename": "NameError",
     "evalue": "name 'curve_dao' is not defined",
     "output_type": "error",
     "traceback": [
      "\u001b[0;31m---------------------------------------------------------------------------\u001b[0m",
      "\u001b[0;31mNameError\u001b[0m                                 Traceback (most recent call last)",
      "Cell \u001b[0;32mIn[9], line 2\u001b[0m\n\u001b[1;32m      1\u001b[0m \u001b[38;5;66;03m# Simulate the proposal execution\u001b[39;00m\n\u001b[0;32m----> 2\u001b[0m \u001b[43mcurve_dao\u001b[49m\u001b[38;5;241m.\u001b[39msimulate(vote_id, curve_dao\u001b[38;5;241m.\u001b[39mget_address(\u001b[38;5;124m\"\u001b[39m\u001b[38;5;124mownership\u001b[39m\u001b[38;5;124m\"\u001b[39m), userdata\u001b[38;5;241m.\u001b[39mget(\u001b[38;5;124m\"\u001b[39m\u001b[38;5;124mETHERSCAN_API_KEY\u001b[39m\u001b[38;5;124m\"\u001b[39m))\n\u001b[1;32m      4\u001b[0m \u001b[38;5;66;03m# Time travel to after the ramp period\u001b[39;00m\n\u001b[1;32m      5\u001b[0m boa\u001b[38;5;241m.\u001b[39menv\u001b[38;5;241m.\u001b[39mtime_travel(seconds\u001b[38;5;241m=\u001b[39m\u001b[38;5;241m60\u001b[39m \u001b[38;5;241m*\u001b[39m \u001b[38;5;241m60\u001b[39m \u001b[38;5;241m*\u001b[39m \u001b[38;5;241m24\u001b[39m \u001b[38;5;241m*\u001b[39m \u001b[38;5;241m8\u001b[39m)  \u001b[38;5;66;03m# 8 days (7 days ramp + 1 day buffer)\u001b[39;00m\n",
      "\u001b[0;31mNameError\u001b[0m: name 'curve_dao' is not defined"
     ]
    }
   ],
   "source": [
    "# Simulate the proposal execution\n",
    "curve_dao.simulate(vote_id, curve_dao.get_address(\"ownership\"), \"ETHERSCAN_API_KEY\")\n",
    "\n",
    "# Time travel to after the ramp period\n",
    "boa.env.time_travel(seconds=60 * 60 * 24 * 8)  # 8 days (7 days ramp + 1 day buffer)"
   ]
  },
  {
   "cell_type": "code",
   "execution_count": null,
   "metadata": {},
   "outputs": [],
   "source": [
    "assert pool.A() == NEW_A\n",
    "assert pool.gamma() == NEW_GAMMA\n",
    "assert pool.mid_fee() == NEW_MID_FEE\n",
    "assert pool.out_fee() == NEW_OUT_FEE\n",
    "assert pool.fee_gamma() == NEW_FEE_GAMMA\n",
    "assert pool.allowed_extra_profit() == NEW_ALLOWED_EXTRA_PROFIT\n",
    "assert pool.adjustment_step() == NEW_ADJUSTMENT_STEP\n",
    "print(f\"Expected MA time (contract value): {NEW_MA_TIME}\")\n",
    "print(f\"Actual MA time (contract value): {pool.ma_time()}\")\n",
    "\n",
    "# Define an acceptable error margin (e.g., 0.5%)\n",
    "ERROR_MARGIN = 5\n",
    "\n",
    "# Check if the actual value is within the acceptable range\n",
    "lower_bound = NEW_MA_TIME * (1 - ERROR_MARGIN)\n",
    "upper_bound = NEW_MA_TIME * (1 + ERROR_MARGIN)\n",
    "\n",
    "assert lower_bound <= pool.ma_time() <= upper_bound, (\n",
    "    f\"MA time {pool.ma_time()} is outside the acceptable range \"\n",
    "    f\"[{lower_bound}, {upper_bound}]\"\n",
    ")\n",
    "\n",
    "print(\"All parameters updated successfully!\")"
   ]
  }
 ],
 "metadata": {
  "kernelspec": {
   "display_name": "boa",
   "language": "python",
   "name": "python3"
  },
  "language_info": {
   "codemirror_mode": {
    "name": "ipython",
    "version": 3
   },
   "file_extension": ".py",
   "mimetype": "text/x-python",
   "name": "python",
   "nbconvert_exporter": "python",
   "pygments_lexer": "ipython3",
   "version": "3.12.2"
  }
 },
 "nbformat": 4,
 "nbformat_minor": 2
}
